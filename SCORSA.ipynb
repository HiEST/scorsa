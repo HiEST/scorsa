{
 "cells": [
  {
   "cell_type": "markdown",
   "metadata": {},
   "source": [
    "This is a notebook to help the execution of the SCORSA without entering the VM. Open another jupyter window to the file [bin/policies.py](http://localhost:8888/edit/scorsa/bin/policies.py), edit it there, return to this notebook and run the cell below to see your new results."
   ]
  },
  {
   "cell_type": "code",
   "execution_count": 1,
   "metadata": {
    "ExecuteTime": {
     "end_time": "2019-08-01T10:03:17.355778Z",
     "start_time": "2019-08-01T10:03:17.005778Z"
    }
   },
   "outputs": [
    {
     "name": "stdout",
     "output_type": "stream",
     "text": [
      "{\n",
      "    \"distance\": {\n",
      "        \"#records\": 834,\n",
      "        \"90th\": 0.9360000000000002,\n",
      "        \"95th\": 0.99,\n",
      "        \"99th\": 0.99,\n",
      "        \"max\": 0.99,\n",
      "        \"mean\": 0.43226229675600114,\n",
      "        \"stdev\": 0.35123351936085256,\n",
      "        \"totaltime\": 99960.0\n",
      "    },\n",
      "    \"fragmentation\": {\n",
      "        \"#records\": 834,\n",
      "        \"90th\": 0.6383444393382353,\n",
      "        \"95th\": 0.6586881635137292,\n",
      "        \"99th\": 0.6908828712406014,\n",
      "        \"max\": 0.7440365301492303,\n",
      "        \"mean\": 0.3685515767337823,\n",
      "        \"stdev\": 0.23448180584656506,\n",
      "        \"totaltime\": 99960.0\n",
      "    }\n",
      "}\n",
      "Files 'metrics.json', schedule.json' and 'stats.json' generated.\n",
      "\n",
      "Remember to submit the file 'metrics.json' to http://bscdc-login.bsc.es:7777 before the end of the lecture! Multiple submissions are accepted.\n",
      "\n"
     ]
    }
   ],
   "source": [
    "#IPython extension to reload modules before executing user code\n",
    "%load_ext autoreload\n",
    "%autoreload 2\n",
    "\n",
    "import sys\n",
    "sys.path.insert(0, 'bin')\n",
    "import scorsa_sched as scorsa\n",
    "\n",
    "#add the line below to the point in the policy.py where you want to debug\n",
    "#import pdb; pdb.set_trace()\n",
    "\n",
    "class Args:\n",
    "  c = \"etc/sample-config.ini\"\n",
    "  w = \"data/ricc-1272889970+1d.json\"\n",
    "  l = \"etc/layout-64n-2r-4d-1s.csv\"\n",
    "  nhid = 200\n",
    "\n",
    "scorsa.main(Args())"
   ]
  },
  {
   "cell_type": "markdown",
   "metadata": {},
   "source": [
    "### Plot Results"
   ]
  },
  {
   "cell_type": "markdown",
   "metadata": {
    "ExecuteTime": {
     "end_time": "2019-07-26T17:22:37.317069Z",
     "start_time": "2019-07-26T17:22:37.195952Z"
    }
   },
   "source": [
    "Visualizing the PDF on jupyter"
   ]
  },
  {
   "cell_type": "code",
   "execution_count": 2,
   "metadata": {
    "ExecuteTime": {
     "end_time": "2019-08-01T10:03:17.367349Z",
     "start_time": "2019-08-01T10:03:17.357582Z"
    }
   },
   "outputs": [],
   "source": [
    "class PDF(object):\n",
    "  def __init__(self, pdf, size=(200,200)):\n",
    "    self.pdf = pdf\n",
    "    self.size = size\n",
    "\n",
    "  def _repr_html_(self):\n",
    "    return '<iframe src={0} width={1[0]} height={1[1]}></iframe>'.format(self.pdf, self.size)"
   ]
  },
  {
   "cell_type": "markdown",
   "metadata": {},
   "source": [
    "Generating the PDF"
   ]
  },
  {
   "cell_type": "code",
   "execution_count": 3,
   "metadata": {
    "ExecuteTime": {
     "end_time": "2019-08-01T10:03:27.538523Z",
     "start_time": "2019-08-01T10:03:17.369393Z"
    }
   },
   "outputs": [
    {
     "data": {
      "text/html": [
       "<iframe src=plot.pdf width=800 height=600></iframe>"
      ],
      "text/plain": [
       "<__main__.PDF at 0x7fe5107119b0>"
      ]
     },
     "execution_count": 3,
     "metadata": {},
     "output_type": "execute_result"
    }
   ],
   "source": [
    "!/bin/bash plot.sh\n",
    "PDF('plot.pdf',size=(800,600))"
   ]
  },
  {
   "cell_type": "code",
   "execution_count": null,
   "metadata": {},
   "outputs": [],
   "source": []
  }
 ],
 "metadata": {
  "kernelspec": {
   "display_name": "Python 3",
   "language": "python",
   "name": "python3"
  },
  "language_info": {
   "codemirror_mode": {
    "name": "ipython",
    "version": 3
   },
   "file_extension": ".py",
   "mimetype": "text/x-python",
   "name": "python",
   "nbconvert_exporter": "python",
   "pygments_lexer": "ipython3",
   "version": "3.6.8"
  },
  "toc": {
   "base_numbering": 1,
   "nav_menu": {},
   "number_sections": true,
   "sideBar": true,
   "skip_h1_title": false,
   "title_cell": "Table of Contents",
   "title_sidebar": "Contents",
   "toc_cell": false,
   "toc_position": {},
   "toc_section_display": true,
   "toc_window_display": false
  }
 },
 "nbformat": 4,
 "nbformat_minor": 2
}
